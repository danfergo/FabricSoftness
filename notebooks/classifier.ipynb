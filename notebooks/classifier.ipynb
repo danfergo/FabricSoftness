{
 "cells": [
  {
   "cell_type": "markdown",
   "metadata": {},
   "source": [
    "# The data"
   ]
  },
  {
   "cell_type": "code",
   "execution_count": 7,
   "metadata": {},
   "outputs": [
    {
     "name": "stdout",
     "output_type": "stream",
     "text": [
      "Found 11430 images belonging to 2 classes.\n"
     ]
    }
   ],
   "source": [
    "from keras.preprocessing.image import ImageDataGenerator\n",
    "\n",
    "# train\n",
    "batch_size = 32\n",
    "train_datagen = ImageDataGenerator()\n",
    "\n",
    "train_generator = train_datagen.flow_from_directory(\n",
    "        '/data/full/train/',\n",
    "        target_size=(224, 224),\n",
    "        batch_size=batch_size,\n",
    "        shuffle=True,\n",
    "        class_mode='categorical')\n",
    "\n"
   ]
  },
  {
   "cell_type": "code",
   "execution_count": 8,
   "metadata": {},
   "outputs": [
    {
     "name": "stdout",
     "output_type": "stream",
     "text": [
      "Found 400 images belonging to 2 classes.\n"
     ]
    }
   ],
   "source": [
    "# validation\n",
    "validation_generator = train_datagen.flow_from_directory(\n",
    "        '/data/full/validation/',\n",
    "        target_size=(224, 224),\n",
    "        batch_size=batch_size,\n",
    "        shuffle=True,\n",
    "        class_mode='categorical')"
   ]
  },
  {
   "cell_type": "markdown",
   "metadata": {},
   "source": [
    "# Hardware"
   ]
  },
  {
   "cell_type": "code",
   "execution_count": 9,
   "metadata": {},
   "outputs": [
    {
     "data": {
      "text/plain": [
       "[name: \"/device:CPU:0\"\n",
       " device_type: \"CPU\"\n",
       " memory_limit: 268435456\n",
       " locality {\n",
       " }\n",
       " incarnation: 8690578794670811364, name: \"/device:GPU:0\"\n",
       " device_type: \"GPU\"\n",
       " memory_limit: 5313658880\n",
       " locality {\n",
       "   bus_id: 1\n",
       "   links {\n",
       "   }\n",
       " }\n",
       " incarnation: 3450779186063113296\n",
       " physical_device_desc: \"device: 0, name: GeForce GTX 1060, pci bus id: 0000:01:00.0, compute capability: 6.1\"]"
      ]
     },
     "execution_count": 9,
     "metadata": {},
     "output_type": "execute_result"
    }
   ],
   "source": [
    "from tensorflow.python.client import device_lib\n",
    "\n",
    "device_lib.list_local_devices()"
   ]
  },
  {
   "cell_type": "markdown",
   "metadata": {},
   "source": [
    "# The Model"
   ]
  },
  {
   "cell_type": "code",
   "execution_count": 1,
   "metadata": {},
   "outputs": [
    {
     "name": "stderr",
     "output_type": "stream",
     "text": [
      "Using TensorFlow backend.\n"
     ]
    },
    {
     "name": "stdout",
     "output_type": "stream",
     "text": [
      "Downloading data from https://github.com/fchollet/deep-learning-models/releases/download/v0.1/vgg16_weights_tf_dim_ordering_tf_kernels_notop.h5\n"
     ]
    },
    {
     "ename": "Exception",
     "evalue": "URL fetch failure on https://github.com/fchollet/deep-learning-models/releases/download/v0.1/vgg16_weights_tf_dim_ordering_tf_kernels_notop.h5: None -- [Errno 110] Connection timed out",
     "traceback": [
      "\u001b[0;31m\u001b[0m",
      "\u001b[0;31mException\u001b[0mTraceback (most recent call last)",
      "\u001b[0;32m<ipython-input-1-df41bfa6e44e>\u001b[0m in \u001b[0;36m<module>\u001b[0;34m()\u001b[0m\n\u001b[1;32m      1\u001b[0m \u001b[0;32mfrom\u001b[0m \u001b[0mkeras\u001b[0m\u001b[0;34m.\u001b[0m\u001b[0mapplications\u001b[0m\u001b[0;34m.\u001b[0m\u001b[0mvgg16\u001b[0m \u001b[0;32mimport\u001b[0m \u001b[0mVGG16\u001b[0m\u001b[0;34m\u001b[0m\u001b[0m\n\u001b[1;32m      2\u001b[0m \u001b[0;34m\u001b[0m\u001b[0m\n\u001b[0;32m----> 3\u001b[0;31m \u001b[0mvgg16\u001b[0m \u001b[0;34m=\u001b[0m \u001b[0mVGG16\u001b[0m\u001b[0;34m(\u001b[0m\u001b[0minclude_top\u001b[0m\u001b[0;34m=\u001b[0m\u001b[0mFalse\u001b[0m\u001b[0;34m,\u001b[0m \u001b[0mweights\u001b[0m\u001b[0;34m=\u001b[0m\u001b[0;34m'imagenet'\u001b[0m\u001b[0;34m,\u001b[0m \u001b[0minput_tensor\u001b[0m\u001b[0;34m=\u001b[0m\u001b[0mNone\u001b[0m\u001b[0;34m,\u001b[0m \u001b[0minput_shape\u001b[0m\u001b[0;34m=\u001b[0m\u001b[0;34m(\u001b[0m\u001b[0;36m224\u001b[0m\u001b[0;34m,\u001b[0m \u001b[0;36m224\u001b[0m\u001b[0;34m,\u001b[0m\u001b[0;36m3\u001b[0m\u001b[0;34m)\u001b[0m\u001b[0;34m)\u001b[0m\u001b[0;34m\u001b[0m\u001b[0m\n\u001b[0m\u001b[1;32m      4\u001b[0m \u001b[0;34m\u001b[0m\u001b[0m\n\u001b[1;32m      5\u001b[0m \u001b[0;32mprint\u001b[0m \u001b[0;34m(\u001b[0m\u001b[0mvgg16\u001b[0m\u001b[0;34m.\u001b[0m\u001b[0minput\u001b[0m\u001b[0;34m.\u001b[0m\u001b[0mshape\u001b[0m\u001b[0;34m)\u001b[0m\u001b[0;34m\u001b[0m\u001b[0m\n",
      "\u001b[0;32m/usr/local/lib/python2.7/dist-packages/keras_applications/vgg16.pyc\u001b[0m in \u001b[0;36mVGG16\u001b[0;34m(include_top, weights, input_tensor, input_shape, pooling, classes, **kwargs)\u001b[0m\n\u001b[1;32m    207\u001b[0m                 \u001b[0mWEIGHTS_PATH_NO_TOP\u001b[0m\u001b[0;34m,\u001b[0m\u001b[0;34m\u001b[0m\u001b[0m\n\u001b[1;32m    208\u001b[0m                 \u001b[0mcache_subdir\u001b[0m\u001b[0;34m=\u001b[0m\u001b[0;34m'models'\u001b[0m\u001b[0;34m,\u001b[0m\u001b[0;34m\u001b[0m\u001b[0m\n\u001b[0;32m--> 209\u001b[0;31m                 file_hash='6d6bbae143d832006294945121d1f1fc')\n\u001b[0m\u001b[1;32m    210\u001b[0m         \u001b[0mmodel\u001b[0m\u001b[0;34m.\u001b[0m\u001b[0mload_weights\u001b[0m\u001b[0;34m(\u001b[0m\u001b[0mweights_path\u001b[0m\u001b[0;34m)\u001b[0m\u001b[0;34m\u001b[0m\u001b[0m\n\u001b[1;32m    211\u001b[0m         \u001b[0;32mif\u001b[0m \u001b[0mbackend\u001b[0m\u001b[0;34m.\u001b[0m\u001b[0mbackend\u001b[0m\u001b[0;34m(\u001b[0m\u001b[0;34m)\u001b[0m \u001b[0;34m==\u001b[0m \u001b[0;34m'theano'\u001b[0m\u001b[0;34m:\u001b[0m\u001b[0;34m\u001b[0m\u001b[0m\n",
      "\u001b[0;32m/usr/local/lib/python2.7/dist-packages/keras/utils/data_utils.pyc\u001b[0m in \u001b[0;36mget_file\u001b[0;34m(fname, origin, untar, md5_hash, file_hash, cache_subdir, hash_algorithm, extract, archive_format, cache_dir)\u001b[0m\n\u001b[1;32m    222\u001b[0m                 \u001b[0murlretrieve\u001b[0m\u001b[0;34m(\u001b[0m\u001b[0morigin\u001b[0m\u001b[0;34m,\u001b[0m \u001b[0mfpath\u001b[0m\u001b[0;34m,\u001b[0m \u001b[0mdl_progress\u001b[0m\u001b[0;34m)\u001b[0m\u001b[0;34m\u001b[0m\u001b[0m\n\u001b[1;32m    223\u001b[0m             \u001b[0;32mexcept\u001b[0m \u001b[0mURLError\u001b[0m \u001b[0;32mas\u001b[0m \u001b[0me\u001b[0m\u001b[0;34m:\u001b[0m\u001b[0;34m\u001b[0m\u001b[0m\n\u001b[0;32m--> 224\u001b[0;31m                 \u001b[0;32mraise\u001b[0m \u001b[0mException\u001b[0m\u001b[0;34m(\u001b[0m\u001b[0merror_msg\u001b[0m\u001b[0;34m.\u001b[0m\u001b[0mformat\u001b[0m\u001b[0;34m(\u001b[0m\u001b[0morigin\u001b[0m\u001b[0;34m,\u001b[0m \u001b[0me\u001b[0m\u001b[0;34m.\u001b[0m\u001b[0merrno\u001b[0m\u001b[0;34m,\u001b[0m \u001b[0me\u001b[0m\u001b[0;34m.\u001b[0m\u001b[0mreason\u001b[0m\u001b[0;34m)\u001b[0m\u001b[0;34m)\u001b[0m\u001b[0;34m\u001b[0m\u001b[0m\n\u001b[0m\u001b[1;32m    225\u001b[0m             \u001b[0;32mexcept\u001b[0m \u001b[0mHTTPError\u001b[0m \u001b[0;32mas\u001b[0m \u001b[0me\u001b[0m\u001b[0;34m:\u001b[0m\u001b[0;34m\u001b[0m\u001b[0m\n\u001b[1;32m    226\u001b[0m                 \u001b[0;32mraise\u001b[0m \u001b[0mException\u001b[0m\u001b[0;34m(\u001b[0m\u001b[0merror_msg\u001b[0m\u001b[0;34m.\u001b[0m\u001b[0mformat\u001b[0m\u001b[0;34m(\u001b[0m\u001b[0morigin\u001b[0m\u001b[0;34m,\u001b[0m \u001b[0me\u001b[0m\u001b[0;34m.\u001b[0m\u001b[0mcode\u001b[0m\u001b[0;34m,\u001b[0m \u001b[0me\u001b[0m\u001b[0;34m.\u001b[0m\u001b[0mmsg\u001b[0m\u001b[0;34m)\u001b[0m\u001b[0;34m)\u001b[0m\u001b[0;34m\u001b[0m\u001b[0m\n",
      "\u001b[0;31mException\u001b[0m: URL fetch failure on https://github.com/fchollet/deep-learning-models/releases/download/v0.1/vgg16_weights_tf_dim_ordering_tf_kernels_notop.h5: None -- [Errno 110] Connection timed out"
     ],
     "output_type": "error"
    }
   ],
   "source": [
    "from keras.applications.vgg16 import VGG16\n",
    "\n",
    "vgg16 = VGG16(include_top=False, weights='imagenet', input_tensor=None, input_shape=(224, 224,3))\n",
    "\n",
    "print (vgg16.input.shape)\n",
    "print (vgg16.output.shape)"
   ]
  },
  {
   "cell_type": "code",
   "execution_count": 11,
   "metadata": {},
   "outputs": [
    {
     "name": "stdout",
     "output_type": "stream",
     "text": [
      "(?, 1, 1, 100)\n",
      "(?, 1, 1, 2)\n",
      "(?, 2)\n"
     ]
    }
   ],
   "source": [
    "from keras.layers import Conv2D, Reshape, Dense, Activation, BatchNormalization\n",
    "\n",
    "input = vgg16.input\n",
    "# vgg16 goes here\n",
    "fc1 = Conv2D(100, (7,7))(vgg16.output)\n",
    "fc1_bn = BatchNormalization()(fc1)\n",
    "fc1_act = Activation('relu')(fc1_bn)\n",
    "\n",
    "fc2 = Conv2D(2, (1,1))(fc1_act)\n",
    "fc2_bn = BatchNormalization()(fc2)\n",
    "fc2_act = Activation('softmax')(fc2_bn)\n",
    "\n",
    "output = Reshape((2,))(fc2_act)\n",
    "\n",
    "print (fc1.shape)\n",
    "print (fc2.shape)\n",
    "print (output.shape)\n"
   ]
  },
  {
   "cell_type": "code",
   "execution_count": 12,
   "metadata": {},
   "outputs": [
    {
     "name": "stdout",
     "output_type": "stream",
     "text": [
      "_________________________________________________________________\n",
      "Layer (type)                 Output Shape              Param #   \n",
      "=================================================================\n",
      "input_1 (InputLayer)         (None, 224, 224, 3)       0         \n",
      "_________________________________________________________________\n",
      "block1_conv1 (Conv2D)        (None, 224, 224, 64)      1792      \n",
      "_________________________________________________________________\n",
      "block1_conv2 (Conv2D)        (None, 224, 224, 64)      36928     \n",
      "_________________________________________________________________\n",
      "block1_pool (MaxPooling2D)   (None, 112, 112, 64)      0         \n",
      "_________________________________________________________________\n",
      "block2_conv1 (Conv2D)        (None, 112, 112, 128)     73856     \n",
      "_________________________________________________________________\n",
      "block2_conv2 (Conv2D)        (None, 112, 112, 128)     147584    \n",
      "_________________________________________________________________\n",
      "block2_pool (MaxPooling2D)   (None, 56, 56, 128)       0         \n",
      "_________________________________________________________________\n",
      "block3_conv1 (Conv2D)        (None, 56, 56, 256)       295168    \n",
      "_________________________________________________________________\n",
      "block3_conv2 (Conv2D)        (None, 56, 56, 256)       590080    \n",
      "_________________________________________________________________\n",
      "block3_conv3 (Conv2D)        (None, 56, 56, 256)       590080    \n",
      "_________________________________________________________________\n",
      "block3_pool (MaxPooling2D)   (None, 28, 28, 256)       0         \n",
      "_________________________________________________________________\n",
      "block4_conv1 (Conv2D)        (None, 28, 28, 512)       1180160   \n",
      "_________________________________________________________________\n",
      "block4_conv2 (Conv2D)        (None, 28, 28, 512)       2359808   \n",
      "_________________________________________________________________\n",
      "block4_conv3 (Conv2D)        (None, 28, 28, 512)       2359808   \n",
      "_________________________________________________________________\n",
      "block4_pool (MaxPooling2D)   (None, 14, 14, 512)       0         \n",
      "_________________________________________________________________\n",
      "block5_conv1 (Conv2D)        (None, 14, 14, 512)       2359808   \n",
      "_________________________________________________________________\n",
      "block5_conv2 (Conv2D)        (None, 14, 14, 512)       2359808   \n",
      "_________________________________________________________________\n",
      "block5_conv3 (Conv2D)        (None, 14, 14, 512)       2359808   \n",
      "_________________________________________________________________\n",
      "block5_pool (MaxPooling2D)   (None, 7, 7, 512)         0         \n",
      "_________________________________________________________________\n",
      "conv2d_1 (Conv2D)            (None, 1, 1, 100)         2508900   \n",
      "_________________________________________________________________\n",
      "batch_normalization_1 (Batch (None, 1, 1, 100)         400       \n",
      "_________________________________________________________________\n",
      "activation_1 (Activation)    (None, 1, 1, 100)         0         \n",
      "_________________________________________________________________\n",
      "conv2d_2 (Conv2D)            (None, 1, 1, 2)           202       \n",
      "_________________________________________________________________\n",
      "batch_normalization_2 (Batch (None, 1, 1, 2)           8         \n",
      "_________________________________________________________________\n",
      "activation_2 (Activation)    (None, 1, 1, 2)           0         \n",
      "_________________________________________________________________\n",
      "reshape_1 (Reshape)          (None, 2)                 0         \n",
      "=================================================================\n",
      "Total params: 17,224,198\n",
      "Trainable params: 17,223,994\n",
      "Non-trainable params: 204\n",
      "_________________________________________________________________\n"
     ]
    }
   ],
   "source": [
    "from keras.models import Model\n",
    "from keras.utils import print_summary\n",
    "\n",
    "model = Model(inputs=input, outputs=output)\n",
    "\n",
    "print_summary(model)"
   ]
  },
  {
   "cell_type": "markdown",
   "metadata": {},
   "source": [
    "# Training"
   ]
  },
  {
   "cell_type": "code",
   "execution_count": 13,
   "metadata": {},
   "outputs": [],
   "source": [
    "from keras.optimizers import Adadelta, SGD\n",
    "\n",
    "optimizer = Adadelta(lr=0.75, rho=0.95, epsilon=None, decay=0.0)\n",
    "\n",
    "model.compile(optimizer= optimizer,\n",
    "              loss='categorical_crossentropy',\n",
    "              metrics=['categorical_accuracy'])"
   ]
  },
  {
   "cell_type": "markdown",
   "metadata": {},
   "source": [
    "# Saving train"
   ]
  },
  {
   "cell_type": "code",
   "execution_count": 15,
   "metadata": {},
   "outputs": [
    {
     "name": "stdout",
     "output_type": "stream",
     "text": [
      "Epoch 1/30\n",
      " - 68s - loss: 0.6856 - categorical_accuracy: 0.5783 - val_loss: 1.2019 - val_categorical_accuracy: 0.5031\n",
      "Epoch 2/30\n",
      " - 63s - loss: 0.5875 - categorical_accuracy: 0.6761 - val_loss: 6.0934 - val_categorical_accuracy: 0.4934\n",
      "Epoch 3/30\n",
      " - 91s - loss: 0.3944 - categorical_accuracy: 0.8280 - val_loss: 0.8798 - val_categorical_accuracy: 0.5164\n",
      "Epoch 4/30\n",
      " - 122s - loss: 0.3562 - categorical_accuracy: 0.8459 - val_loss: 0.5835 - val_categorical_accuracy: 0.7368\n",
      "Epoch 5/30\n",
      " - 131s - loss: 0.3153 - categorical_accuracy: 0.8787 - val_loss: 0.2809 - val_categorical_accuracy: 0.8844\n",
      "Epoch 6/30\n",
      " - 136s - loss: 0.3077 - categorical_accuracy: 0.8750 - val_loss: 0.5361 - val_categorical_accuracy: 0.6875\n",
      "Epoch 7/30\n",
      " - 138s - loss: 0.2893 - categorical_accuracy: 0.8817 - val_loss: 1.1644 - val_categorical_accuracy: 0.5296\n",
      "Epoch 8/30\n",
      " - 138s - loss: 0.2662 - categorical_accuracy: 0.8937 - val_loss: 0.8867 - val_categorical_accuracy: 0.6217\n",
      "Epoch 9/30\n",
      " - 140s - loss: 0.2559 - categorical_accuracy: 0.9026 - val_loss: 3.1000 - val_categorical_accuracy: 0.5000\n",
      "Epoch 10/30\n",
      " - 152s - loss: 0.2527 - categorical_accuracy: 0.8962 - val_loss: 0.4987 - val_categorical_accuracy: 0.7500\n",
      "Epoch 11/30\n",
      " - 154s - loss: 0.2543 - categorical_accuracy: 0.9012 - val_loss: 0.4236 - val_categorical_accuracy: 0.8388\n",
      "Epoch 12/30\n",
      " - 162s - loss: 0.2442 - categorical_accuracy: 0.9052 - val_loss: 3.0908 - val_categorical_accuracy: 0.4770\n",
      "Epoch 13/30\n",
      " - 166s - loss: 0.2344 - categorical_accuracy: 0.9066 - val_loss: 0.7571 - val_categorical_accuracy: 0.6513\n",
      "Epoch 14/30\n",
      " - 166s - loss: 0.2278 - categorical_accuracy: 0.9056 - val_loss: 0.2346 - val_categorical_accuracy: 0.9125\n",
      "Epoch 15/30\n",
      " - 167s - loss: 0.2251 - categorical_accuracy: 0.9106 - val_loss: 0.4039 - val_categorical_accuracy: 0.8224\n",
      "Epoch 16/30\n",
      " - 165s - loss: 0.2227 - categorical_accuracy: 0.9098 - val_loss: 0.3113 - val_categorical_accuracy: 0.8618\n",
      "Epoch 17/30\n",
      " - 162s - loss: 0.2087 - categorical_accuracy: 0.9187 - val_loss: 0.7750 - val_categorical_accuracy: 0.6546\n",
      "Epoch 18/30\n",
      " - 163s - loss: 0.2230 - categorical_accuracy: 0.9073 - val_loss: 1.4964 - val_categorical_accuracy: 0.5469\n",
      "Epoch 19/30\n",
      " - 169s - loss: 0.1910 - categorical_accuracy: 0.9220 - val_loss: 0.5814 - val_categorical_accuracy: 0.7697\n",
      "Epoch 20/30\n",
      " - 166s - loss: 0.2080 - categorical_accuracy: 0.9160 - val_loss: 1.4894 - val_categorical_accuracy: 0.5658\n",
      "Epoch 21/30\n",
      " - 163s - loss: 0.1936 - categorical_accuracy: 0.9210 - val_loss: 1.2584 - val_categorical_accuracy: 0.6118\n",
      "Epoch 22/30\n",
      " - 165s - loss: 0.2108 - categorical_accuracy: 0.9123 - val_loss: 1.2251 - val_categorical_accuracy: 0.5750\n",
      "Epoch 23/30\n",
      " - 166s - loss: 0.2073 - categorical_accuracy: 0.9190 - val_loss: 1.5375 - val_categorical_accuracy: 0.5625\n",
      "Epoch 24/30\n",
      " - 169s - loss: 0.1993 - categorical_accuracy: 0.9172 - val_loss: 0.2318 - val_categorical_accuracy: 0.9145\n",
      "Epoch 25/30\n",
      " - 167s - loss: 0.2015 - categorical_accuracy: 0.9204 - val_loss: 1.5925 - val_categorical_accuracy: 0.5263\n",
      "Epoch 26/30\n",
      " - 164s - loss: 0.1805 - categorical_accuracy: 0.9291 - val_loss: 1.3338 - val_categorical_accuracy: 0.6250\n",
      "Epoch 27/30\n",
      " - 163s - loss: 0.1884 - categorical_accuracy: 0.9227 - val_loss: 0.2142 - val_categorical_accuracy: 0.9094\n",
      "Epoch 28/30\n",
      " - 161s - loss: 0.1713 - categorical_accuracy: 0.9325 - val_loss: 0.2090 - val_categorical_accuracy: 0.9046\n",
      "Epoch 29/30\n",
      " - 159s - loss: 0.1960 - categorical_accuracy: 0.9163 - val_loss: 1.4699 - val_categorical_accuracy: 0.6283\n",
      "Epoch 30/30\n",
      " - 160s - loss: 0.2019 - categorical_accuracy: 0.9190 - val_loss: 0.5481 - val_categorical_accuracy: 0.7336\n"
     ]
    }
   ],
   "source": [
    "history = model.fit_generator(\n",
    "        train_generator,\n",
    "        steps_per_epoch=(3000/32),\n",
    "        verbose=2,\n",
    "        epochs=30,\n",
    "        validation_data=validation_generator,\n",
    "        validation_steps=10)"
   ]
  },
  {
   "cell_type": "code",
   "execution_count": 20,
   "metadata": {},
   "outputs": [],
   "source": [
    "import pickle\n",
    "\n",
    "experiment_name = 'first_experiment'\n",
    "base_path = '/data/models/'\n",
    "\n",
    "model.save(base_path + '/model_' + experiment_name + '.h5')\n",
    "model.save_weights(base_path + 'weights_' + experiment_name + '.h5')\n",
    "\n",
    "pkl_file = open(base_path + 'history_' + experiment_name + '.pkl', 'wb')\n",
    "pickle.dump(history.history, pkl_file)\n",
    "pkl_file.close()\n"
   ]
  },
  {
   "cell_type": "markdown",
   "metadata": {},
   "source": [
    "# Plotting train"
   ]
  },
  {
   "cell_type": "code",
   "execution_count": 23,
   "metadata": {
    "scrolled": true
   },
   "outputs": [
    {
     "data": {
      "image/png": "[encoded data removed]",
      "text/plain": [
       "<Figure size 432x288 with 1 Axes>"
      ]
     },
     "metadata": {
      "needs_background": "light"
     },
     "output_type": "display_data"
    },
    {
     "data": {
      "image/png": "[encoded data removed]",
      "text/plain": [
       "<Figure size 432x288 with 1 Axes>"
      ]
     },
     "metadata": {
      "needs_background": "light"
     },
     "output_type": "display_data"
    }
   ],
   "source": [
    "import matplotlib.pyplot as plt\n",
    "\n",
    "complete_history = history.history\n",
    "\n",
    "# summarize history for accuracy\n",
    "plt.plot(complete_history['categorical_accuracy'])\n",
    "plt.plot(complete_history['val_categorical_accuracy'])\n",
    "plt.title('Model accuracy')\n",
    "plt.ylabel('Accuracy')\n",
    "plt.xlabel('Epoch')\n",
    "plt.legend(['Train', 'Validation'], loc='lower right')\n",
    "plt.show()\n",
    "\n",
    "# summarize history for loss\n",
    "plt.plot(complete_history['loss'])\n",
    "plt.plot(complete_history['val_loss'])\n",
    "plt.title('Model loss')\n",
    "plt.ylabel('Loss')\n",
    "plt.xlabel('Epoch')\n",
    "plt.legend(['Train', 'Validation'], loc='upper right')\n",
    "plt.show()"
   ]
  },
  {
   "cell_type": "markdown",
   "metadata": {},
   "source": [
    "# Test generator"
   ]
  },
  {
   "cell_type": "code",
   "execution_count": 3,
   "metadata": {},
   "outputs": [
    {
     "name": "stderr",
     "output_type": "stream",
     "text": [
      "Using TensorFlow backend.\n"
     ]
    },
    {
     "name": "stdout",
     "output_type": "stream",
     "text": [
      "Found 400 images belonging to 2 classes.\n"
     ]
    }
   ],
   "source": [
    "from keras.preprocessing.image import ImageDataGenerator\n",
    "\n",
    "# validation\n",
    "test_batch_size = 25\n",
    "\n",
    "test_datagen = ImageDataGenerator()\n",
    "test_generator = test_datagen.flow_from_directory(\n",
    "        '/data/full/validation/',\n",
    "        target_size=(224, 224),\n",
    "        batch_size=test_batch_size,\n",
    "        shuffle=True,\n",
    "        class_mode='categorical')"
   ]
  },
  {
   "cell_type": "code",
   "execution_count": 4,
   "metadata": {},
   "outputs": [],
   "source": [
    "from keras.models import load_model\n",
    "\n",
    "experiment_name = 'first_experiment'\n",
    "base_path = '/data/models/'\n",
    "\n",
    "test_model = load_model(base_path + 'model_' + experiment_name + '.h5')"
   ]
  },
  {
   "cell_type": "code",
   "execution_count": 8,
   "metadata": {},
   "outputs": [
    {
     "name": "stdout",
     "output_type": "stream",
     "text": [
      "16/16 [==============================] - 3s 195ms/step\n",
      "['loss', 'categorical_accuracy']\n",
      "[0.5115197757259011, 0.7350000068545341]\n"
     ]
    }
   ],
   "source": [
    "results = test_model.evaluate_generator(test_generator, steps=(400/test_batch_size), verbose=1)\n",
    "print(test_model.metrics_names)\n",
    "print(results)"
   ]
  },
  {
   "cell_type": "code",
   "execution_count": null,
   "metadata": {},
   "outputs": [],
   "source": []
  }
 ],
 "metadata": {
  "kernelspec": {
   "display_name": "Python 2",
   "language": "python",
   "name": "python2"
  },
  "language_info": {
   "codemirror_mode": {
    "name": "ipython",
    "version": 2
   },
   "file_extension": ".py",
   "mimetype": "text/x-python",
   "name": "python",
   "nbconvert_exporter": "python",
   "pygments_lexer": "ipython2",
   "version": "2.7.12"
  }
 },
 "nbformat": 4,
 "nbformat_minor": 2
}
